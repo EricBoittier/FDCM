{
 "cells": [
  {
   "cell_type": "code",
   "execution_count": 5,
   "id": "398e9e18-ca4c-4437-8360-70a7a92b71dc",
   "metadata": {},
   "outputs": [],
   "source": [
    "import os, sys\n",
    "import matplotlib.pyplot as plt\n",
    "plt.style.use(['science','ieee', \"no-latex\", \"std-colors\"])\n",
    "ars_path = \"/home/unibas/boittier/AdjustReference-System/\"\n",
    "sys.path.insert(1, ars_path)\n",
    "from ARS import *\n",
    "import numpy as np\n"
   ]
  },
  {
   "cell_type": "code",
   "execution_count": 6,
   "id": "ddb5c709-3d55-40ee-b446-985db210afad",
   "metadata": {},
   "outputs": [],
   "source": [
    "def find_adjustment(xyz_file_name, pcube, frame_file):    \n",
    "    output_filename = \"test.xyz\"\n",
    "    ARS_obj = ARS(xyz_file_name, pcube, frame_file)\n",
    "    ARS_obj.save_charges_local(output_filename)\n"
   ]
  },
  {
   "cell_type": "code",
   "execution_count": 7,
   "id": "5e605097-e036-4398-afb4-640f82f9f337",
   "metadata": {},
   "outputs": [],
   "source": [
    "def plot_rmsd(charge_positions, show=True):\n",
    "    rms_values = []\n",
    "    n_ = len(charge_positions)\n",
    "    for i in range(n_-1):\n",
    "        dif = charge_positions[i+1] - charge_positions[i+0]\n",
    "        rms = np.sqrt(np.mean(dif**2))\n",
    "        rms_values.append(rms)\n",
    "    plt.plot(rms_values)\n",
    "    if show:\n",
    "        plt.show()\n",
    "    \n",
    "def plot_rmsd_sum_per_atom(charge_positions, show=True):\n",
    "    rms_values = []\n",
    "    n_ = len(charge_positions)\n",
    "    for i in range(n_-1):\n",
    "        rms = []\n",
    "        n = charge_positions[i+1].shape[0]\n",
    "        for j in range(n):\n",
    "            dif = charge_positions[i+1][j] - charge_positions[i+0][j]\n",
    "            rms.append(np.sqrt(np.mean(dif**2)))\n",
    "        rms_values.append(rms)\n",
    "\n",
    "    rms_values_max = [np.max(x) for x in rms_values]\n",
    "    rms_values = np.array(rms_values)\n",
    "\n",
    "    sums = [np.sum(x) for x in rms_values.T]\n",
    "    my_cmap = plt.get_cmap(\"Blues\")\n",
    "    rescale = lambda y: (y - np.min(y)) / (np.max(y) - np.min(y))\n",
    "    plt.bar(range(len(sums)), sums, color=my_cmap(rescale(sums)), \n",
    "            edgecolor=\"k\", linewidth=0.25)\n",
    "\n",
    "    plt.xlabel(\"Charge\")\n",
    "    plt.ylabel(\"$\\sum RMSD$\")\n",
    "    \n",
    "    if show:\n",
    "        plt.show()    \n",
    "    \n",
    "def plot_rmsd_per_atom(charge_positions, show=True):\n",
    "    rms_values = []\n",
    "    n_ = len(charge_positions)\n",
    "    for i in range(n_-1):\n",
    "        rms = []\n",
    "        n = charge_positions[i+1].shape[0]\n",
    "        for j in range(n):\n",
    "            dif = charge_positions[i+1][j] - charge_positions[i+0][j]\n",
    "            rms.append(np.sqrt(np.mean(dif**2)))\n",
    "        rms_values.append(rms)\n",
    "\n",
    "    rms_values_max = [np.max(x) for x in rms_values]\n",
    "    rms_values = np.array(rms_values)\n",
    "\n",
    "    sums = [np.sum(x) for x in rms_values.T]\n",
    "    my_cmap = plt.get_cmap(\"Blues\")\n",
    "    rescale = lambda y: (y - np.min(y)) / (np.max(y) - np.min(y))\n",
    "    \n",
    "    colors_ = my_cmap(rescale(sums))\n",
    "    \n",
    "    for i, rms in enumerate(rms_values.T):\n",
    "        plt.plot(range(len(rms)), rms, color=colors_[i])\n",
    "\n",
    "    plt.xlabel(\"Charge\")\n",
    "    plt.ylabel(\"$\\sum RMSD$\")\n",
    "    \n",
    "    if show:\n",
    "        plt.show()    \n",
    "\n",
    "def load_c_pos(name, scan, cube_name, frame_file):\n",
    "    charge_positions = []\n",
    "    for i in range(17):\n",
    "        xyz_file_name = \"../FDCM/{name}/{i}_{j}/refined.xyz\".format(name=name, i=i, j=i+1)\n",
    "        pcube = \"../FDCM/cube_files/{name}/{j}_{scan}/{cube_name}\".format(name=name, scan=scan, \n",
    "                                                                          cube_name=cube_name, j=i+1)\n",
    "        output_filename = \"test.xyz\"\n",
    "        ARS_obj = ARS(xyz_file_name, pcube, frame_file)\n",
    "        ARS_obj.save_charges_local(output_filename)\n",
    "        #print(f\"Distance between Atom configurations = {ARS_obj.get_distance_atoms()}\")\n",
    "        #print(f\"Distance between Charge configurations = {ARS_obj.get_distance_charges()}\")\n",
    "\n",
    "        charge_positions.append(ARS_obj.get_c_positions_local())\n",
    "    return charge_positions\n"
   ]
  },
  {
   "cell_type": "code",
   "execution_count": 8,
   "id": "d378d35f-0945-4373-b416-761dcafe5b3c",
   "metadata": {},
   "outputs": [
    {
     "ename": "ValueError",
     "evalue": "Expected input `b` to have shape (N, 3), got ().",
     "output_type": "error",
     "traceback": [
      "\u001b[0;31m---------------------------------------------------------------------------\u001b[0m",
      "\u001b[0;31mValueError\u001b[0m                                Traceback (most recent call last)",
      "\u001b[0;32m<ipython-input-8-64e4ae6aa1fc>\u001b[0m in \u001b[0;36m<module>\u001b[0;34m\u001b[0m\n\u001b[1;32m      1\u001b[0m \u001b[0mframe_file\u001b[0m \u001b[0;34m=\u001b[0m \u001b[0;34m\"../pydcm-1.2/test3/frames.txt\"\u001b[0m\u001b[0;34m\u001b[0m\u001b[0;34m\u001b[0m\u001b[0m\n\u001b[0;32m----> 2\u001b[0;31m \u001b[0mcharge_positions_fbuta\u001b[0m \u001b[0;34m=\u001b[0m \u001b[0mload_c_pos\u001b[0m\u001b[0;34m(\u001b[0m\u001b[0;34m\"fbuta\"\u001b[0m\u001b[0;34m,\u001b[0m \u001b[0;34m\"SCAN_1_2_3_4_F\"\u001b[0m\u001b[0;34m,\u001b[0m \u001b[0;34m\"B.p.cube\"\u001b[0m\u001b[0;34m,\u001b[0m \u001b[0mframe_file\u001b[0m\u001b[0;34m)\u001b[0m\u001b[0;34m\u001b[0m\u001b[0;34m\u001b[0m\u001b[0m\n\u001b[0m\u001b[1;32m      3\u001b[0m \u001b[0;34m\u001b[0m\u001b[0m\n\u001b[1;32m      4\u001b[0m \u001b[0;34m\u001b[0m\u001b[0m\n\u001b[1;32m      5\u001b[0m \u001b[0mframe_file\u001b[0m \u001b[0;34m=\u001b[0m \u001b[0;34m\"../pydcm-1.2/acrolein-min/frames.txt\"\u001b[0m\u001b[0;34m\u001b[0m\u001b[0;34m\u001b[0m\u001b[0m\n",
      "\u001b[0;32m<ipython-input-7-6beb9869d13e>\u001b[0m in \u001b[0;36mload_c_pos\u001b[0;34m(name, scan, cube_name, frame_file)\u001b[0m\n\u001b[1;32m     74\u001b[0m         \u001b[0mARS_obj\u001b[0m \u001b[0;34m=\u001b[0m \u001b[0mARS\u001b[0m\u001b[0;34m(\u001b[0m\u001b[0mxyz_file_name\u001b[0m\u001b[0;34m,\u001b[0m \u001b[0mpcube\u001b[0m\u001b[0;34m,\u001b[0m \u001b[0mframe_file\u001b[0m\u001b[0;34m)\u001b[0m\u001b[0;34m\u001b[0m\u001b[0;34m\u001b[0m\u001b[0m\n\u001b[1;32m     75\u001b[0m         \u001b[0mARS_obj\u001b[0m\u001b[0;34m.\u001b[0m\u001b[0msave_charges_local\u001b[0m\u001b[0;34m(\u001b[0m\u001b[0moutput_filename\u001b[0m\u001b[0;34m)\u001b[0m\u001b[0;34m\u001b[0m\u001b[0;34m\u001b[0m\u001b[0m\n\u001b[0;32m---> 76\u001b[0;31m         \u001b[0mprint\u001b[0m\u001b[0;34m(\u001b[0m\u001b[0;34mf\"Distance between Atom configurations = {ARS_obj.get_distance_atoms()}\"\u001b[0m\u001b[0;34m)\u001b[0m\u001b[0;34m\u001b[0m\u001b[0;34m\u001b[0m\u001b[0m\n\u001b[0m\u001b[1;32m     77\u001b[0m         \u001b[0mprint\u001b[0m\u001b[0;34m(\u001b[0m\u001b[0;34mf\"Distance between Charge configurations = {ARS_obj.get_distance_charges()}\"\u001b[0m\u001b[0;34m)\u001b[0m\u001b[0;34m\u001b[0m\u001b[0;34m\u001b[0m\u001b[0m\n\u001b[1;32m     78\u001b[0m \u001b[0;34m\u001b[0m\u001b[0m\n",
      "\u001b[0;32m~/AdjustReference-System/ARS.py\u001b[0m in \u001b[0;36mget_distance_atoms\u001b[0;34m(self)\u001b[0m\n\u001b[1;32m    359\u001b[0m \u001b[0;34m\u001b[0m\u001b[0m\n\u001b[1;32m    360\u001b[0m     \u001b[0;32mdef\u001b[0m \u001b[0mget_distance_atoms\u001b[0m\u001b[0;34m(\u001b[0m\u001b[0mself\u001b[0m\u001b[0;34m)\u001b[0m\u001b[0;34m:\u001b[0m\u001b[0;34m\u001b[0m\u001b[0;34m\u001b[0m\u001b[0m\n\u001b[0;32m--> 361\u001b[0;31m         \u001b[0;32mreturn\u001b[0m \u001b[0mKabsch\u001b[0m\u001b[0;34m.\u001b[0m\u001b[0malign_vectors\u001b[0m\u001b[0;34m(\u001b[0m\u001b[0mself\u001b[0m\u001b[0;34m.\u001b[0m\u001b[0matom_positions\u001b[0m\u001b[0;34m,\u001b[0m \u001b[0mself\u001b[0m\u001b[0;34m.\u001b[0m\u001b[0matom_positions_plus\u001b[0m\u001b[0;34m)\u001b[0m\u001b[0;34m[\u001b[0m\u001b[0;36m1\u001b[0m\u001b[0;34m]\u001b[0m\u001b[0;34m\u001b[0m\u001b[0;34m\u001b[0m\u001b[0m\n\u001b[0m\u001b[1;32m    362\u001b[0m \u001b[0;34m\u001b[0m\u001b[0m\n\u001b[1;32m    363\u001b[0m     \u001b[0;32mdef\u001b[0m \u001b[0mlocal_to_global\u001b[0m\u001b[0;34m(\u001b[0m\u001b[0mself\u001b[0m\u001b[0;34m)\u001b[0m\u001b[0;34m:\u001b[0m\u001b[0;34m\u001b[0m\u001b[0;34m\u001b[0m\u001b[0m\n",
      "\u001b[0;32mrotation.pyx\u001b[0m in \u001b[0;36mscipy.spatial.transform.rotation.Rotation.align_vectors\u001b[0;34m()\u001b[0m\n",
      "\u001b[0;31mValueError\u001b[0m: Expected input `b` to have shape (N, 3), got ()."
     ]
    }
   ],
   "source": [
    "frame_file = \"../pydcm-1.2/test3/frames.txt\"    \n",
    "charge_positions_fbuta = load_c_pos(\"fbuta\", \"SCAN_1_2_3_4_F\", \"B.p.cube\", frame_file)\n",
    "\n",
    "\n",
    "frame_file = \"../pydcm-1.2/acrolein-min/frames.txt\"\n",
    "charge_positions_acrolein = load_c_pos(\"acrolein\", \"SCAN_1_2_3_4_F\", \"L.p.cube\", frame_file)\n",
    "\n",
    "\n",
    "frame_file = \"../pydcm-1.2/ester-min/frames.txt\"\n",
    "charge_positions_ester = load_c_pos(\"ester\", \"SCAN_1_2_6_8_F\", \"O.p.cube\", frame_file)\n",
    "\n",
    "frame_file = \"../pydcm-1.2/butone-12/frames.txt\"\n",
    "charge_positions_fbutone = load_c_pos(\"fbutone\", \"SCAN_1_2_6_8_F\", \"N.p.cube\", frame_file)"
   ]
  },
  {
   "cell_type": "code",
   "execution_count": null,
   "id": "1a427dbe-ea2c-4f95-af73-008048d978d3",
   "metadata": {},
   "outputs": [],
   "source": [
    "plot_rmsd(charge_position_fbuta)\n",
    "plot_rmsd_sum_per_atom(charge_position_fbuta)\n",
    "plot_rmsd_per_atom(charge_position_fbuta)"
   ]
  },
  {
   "cell_type": "code",
   "execution_count": null,
   "id": "7f1efcc9-9652-402b-aa7b-11be10a44874",
   "metadata": {},
   "outputs": [],
   "source": [
    "plot_rmsd(charge_positions_acrolein)\n",
    "plot_rmsd_sum_per_atom(charge_positions_acrolein)\n",
    "plot_rmsd_per_atom(charge_positions_acrolein)"
   ]
  },
  {
   "cell_type": "code",
   "execution_count": null,
   "id": "a13cacb1-fb75-4c22-ba22-7a341c489488",
   "metadata": {},
   "outputs": [],
   "source": [
    "plot_rmsd(charge_positions_ester)\n",
    "plot_rmsd_sum_per_atom(charge_positions_ester)\n",
    "plot_rmsd_per_atom(charge_positions_ester)"
   ]
  },
  {
   "cell_type": "code",
   "execution_count": null,
   "id": "7ba86bdd-c911-4065-955b-95e0fbb5b5cd",
   "metadata": {},
   "outputs": [],
   "source": [
    "plot_rmsd(charge_positions_fbutone)\n",
    "plot_rmsd_sum_per_atom(charge_positions_fbutone)\n",
    "plot_rmsd_per_atom(charge_positions_fbutone)"
   ]
  },
  {
   "cell_type": "code",
   "execution_count": null,
   "id": "b069a17e-de72-4554-9a97-290ba936a33f",
   "metadata": {},
   "outputs": [],
   "source": []
  },
  {
   "cell_type": "code",
   "execution_count": null,
   "id": "bc4d9a06-e690-4296-93b3-74fd979cf346",
   "metadata": {},
   "outputs": [],
   "source": []
  },
  {
   "cell_type": "code",
   "execution_count": null,
   "id": "14206bf4-3a05-4b9d-abae-95a485d95929",
   "metadata": {},
   "outputs": [],
   "source": []
  }
 ],
 "metadata": {
  "kernelspec": {
   "display_name": "Python 3",
   "language": "python",
   "name": "python3"
  },
  "language_info": {
   "codemirror_mode": {
    "name": "ipython",
    "version": 3
   },
   "file_extension": ".py",
   "mimetype": "text/x-python",
   "name": "python",
   "nbconvert_exporter": "python",
   "pygments_lexer": "ipython3",
   "version": "3.9.1"
  }
 },
 "nbformat": 4,
 "nbformat_minor": 5
}
