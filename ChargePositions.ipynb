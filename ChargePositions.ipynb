{
 "cells": [
  {
   "cell_type": "code",
   "execution_count": 5,
   "id": "398e9e18-ca4c-4437-8360-70a7a92b71dc",
   "metadata": {},
   "outputs": [],
   "source": [
    "import os, sys\n",
    "import matplotlib.pyplot as plt\n",
    "plt.style.use(['science','ieee', \"no-latex\", \"std-colors\"])\n",
    "ars_path = \"/home/unibas/boittier/AdjustReference-System/\"\n",
    "sys.path.insert(1, ars_path)\n",
    "from ARS import *\n",
    "import numpy as np\n"
   ]
  },
  {
   "cell_type": "code",
   "execution_count": 9,
   "id": "ddb5c709-3d55-40ee-b446-985db210afad",
   "metadata": {},
   "outputs": [],
   "source": [
    "def find_adjustment(xyz_file_name, pcube, frame_file):    \n",
    "    output_filename = \"test.xyz\"\n",
    "    ARS_obj = ARS(xyz_file_name, pcube, frame_file)\n",
    "    ARS_obj.save_charges_local(output_filename)\n",
    "\n",
    "#print(f\"Distance between Atom configurations = {ARS_obj.get_distance_atoms()}\")\n",
    "#print(f\"Distance between Charge configurations = {ARS_obj.get_distance_charges()}\")"
   ]
  },
  {
   "cell_type": "code",
   "execution_count": 10,
   "id": "5e605097-e036-4398-afb4-640f82f9f337",
   "metadata": {},
   "outputs": [],
   "source": [
    "def plot_rmsd(charge_positions, show=True):\n",
    "    rms_values = []\n",
    "    n_ = len(charge_positions)\n",
    "    for i in range(n_-1):\n",
    "        dif = charge_positions[i+1] - charge_positions[i+0]\n",
    "        rms = np.sqrt(np.mean(dif**2))\n",
    "        rms_values.append(rms)\n",
    "    plt.plot(rms_values)\n",
    "    if show:\n",
    "        plt.show()\n",
    "    \n",
    "def plot_rmsd_sum_per_atom(charge_positions, show=True):\n",
    "    rms_values = []\n",
    "    n_ = len(charge_positions)\n",
    "    for i in range(n_-1):\n",
    "        rms = []\n",
    "        n = charge_positions[i+1].shape[0]\n",
    "        for j in range(n):\n",
    "            dif = charge_positions[i+1][j] - charge_positions[i+0][j]\n",
    "            rms.append(np.sqrt(np.mean(dif**2)))\n",
    "        rms_values.append(rms)\n",
    "\n",
    "    rms_values_max = [np.max(x) for x in rms_values]\n",
    "    rms_values = np.array(rms_values)\n",
    "\n",
    "    sums = [np.sum(x) for x in rms_values.T]\n",
    "    my_cmap = plt.get_cmap(\"Blues\")\n",
    "    rescale = lambda y: (y - np.min(y)) / (np.max(y) - np.min(y))\n",
    "    plt.bar(range(len(sums)), sums, color=my_cmap(rescale(sums)), \n",
    "            edgecolor=\"k\", linewidth=0.25)\n",
    "\n",
    "    plt.xlabel(\"Charge\")\n",
    "    plt.ylabel(\"$\\sum RMSD$\")\n",
    "    \n",
    "    if show:\n",
    "        plt.show()    \n",
    "    \n",
    "def plot_rmsd_per_atom(charge_positions, show=True):\n",
    "    rms_values = []\n",
    "    n_ = len(charge_positions)\n",
    "    for i in range(n_-1):\n",
    "        rms = []\n",
    "        n = charge_positions[i+1].shape[0]\n",
    "        for j in range(n):\n",
    "            dif = charge_positions[i+1][j] - charge_positions[i+0][j]\n",
    "            rms.append(np.sqrt(np.mean(dif**2)))\n",
    "        rms_values.append(rms)\n",
    "\n",
    "    rms_values_max = [np.max(x) for x in rms_values]\n",
    "    rms_values = np.array(rms_values)\n",
    "\n",
    "    sums = [np.sum(x) for x in rms_values.T]\n",
    "    my_cmap = plt.get_cmap(\"Blues\")\n",
    "    rescale = lambda y: (y - np.min(y)) / (np.max(y) - np.min(y))\n",
    "    \n",
    "    colors_ = my_cmap(rescale(sums))\n",
    "    \n",
    "    for i, rms in enumerate(rms_values.T):\n",
    "        plt.plot(range(len(rms)), rms, color=colors_[i])\n",
    "\n",
    "    plt.xlabel(\"Charge\")\n",
    "    plt.ylabel(\"$\\sum RMSD$\")\n",
    "    \n",
    "    if show:\n",
    "        plt.show()    \n",
    "\n",
    "def load_c_pos(name, scan, cube_name, frame_file):\n",
    "    charge_positions = []\n",
    "    for i in range(17):\n",
    "        xyz_file_name = \"../FDCM/{name}/{i}_{j}/refined.xyz\".format(name=name, i=i, j=i+1)\n",
    "        pcube = \"../FDCM/cube_files/{name}/{j}_{scan}/{cube_name}\".format(name=name, scan=scan, \n",
    "                                                                          cube_name=cube_name, j=i+1)\n",
    "        output_filename = \"test.xyz\"\n",
    "        ARS_obj = ARS(xyz_file_name, pcube, frame_file)\n",
    "        ARS_obj.save_charges_local(output_filename)\n",
    "        charge_positions.append(ARS_obj.get_c_positions_local())\n",
    "    return charge_positions\n"
   ]
  },
  {
   "cell_type": "code",
   "execution_count": 11,
   "id": "d378d35f-0945-4373-b416-761dcafe5b3c",
   "metadata": {},
   "outputs": [],
   "source": [
    "frame_file = \"../pydcm-1.2/test3/frames.txt\"    \n",
    "charge_positions_fbuta = load_c_pos(\"fbuta\", \"SCAN_1_2_3_4_F\", \"B.p.cube\", frame_file)\n",
    "\n",
    "\n",
    "frame_file = \"../pydcm-1.2/acrolein-min/frames.txt\"\n",
    "charge_positions_acrolein = load_c_pos(\"acrolein\", \"SCAN_1_2_3_4_F\", \"L.p.cube\", frame_file)\n",
    "\n",
    "\n",
    "frame_file = \"../pydcm-1.2/ester-min/frames.txt\"\n",
    "charge_positions_ester = load_c_pos(\"ester\", \"SCAN_1_2_6_8_F\", \"O.p.cube\", frame_file)\n",
    "\n",
    "frame_file = \"../pydcm-1.2/butone-12/frames.txt\"\n",
    "charge_positions_fbutone = load_c_pos(\"fbutone\", \"SCAN_1_2_6_8_F\", \"N.p.cube\", frame_file)"
   ]
  },
  {
   "cell_type": "code",
   "execution_count": null,
   "id": "1a427dbe-ea2c-4f95-af73-008048d978d3",
   "metadata": {},
   "outputs": [],
   "source": [
    "plot_rmsd(charge_position_fbuta)\n",
    "plot_rmsd_sum_per_atom(charge_position_fbuta)\n",
    "plot_rmsd_per_atom(charge_position_fbuta)"
   ]
  },
  {
   "cell_type": "code",
   "execution_count": null,
   "id": "7f1efcc9-9652-402b-aa7b-11be10a44874",
   "metadata": {},
   "outputs": [],
   "source": [
    "plot_rmsd(charge_positions_acrolein)\n",
    "plot_rmsd_sum_per_atom(charge_positions_acrolein)\n",
    "plot_rmsd_per_atom(charge_positions_acrolein)"
   ]
  },
  {
   "cell_type": "code",
   "execution_count": null,
   "id": "a13cacb1-fb75-4c22-ba22-7a341c489488",
   "metadata": {},
   "outputs": [],
   "source": [
    "plot_rmsd(charge_positions_ester)\n",
    "plot_rmsd_sum_per_atom(charge_positions_ester)\n",
    "plot_rmsd_per_atom(charge_positions_ester)"
   ]
  },
  {
   "cell_type": "code",
   "execution_count": null,
   "id": "7ba86bdd-c911-4065-955b-95e0fbb5b5cd",
   "metadata": {},
   "outputs": [],
   "source": [
    "plot_rmsd(charge_positions_fbutone)\n",
    "plot_rmsd_sum_per_atom(charge_positions_fbutone)\n",
    "plot_rmsd_per_atom(charge_positions_fbutone)"
   ]
  },
  {
   "cell_type": "code",
   "execution_count": null,
   "id": "b069a17e-de72-4554-9a97-290ba936a33f",
   "metadata": {},
   "outputs": [],
   "source": []
  },
  {
   "cell_type": "code",
   "execution_count": null,
   "id": "bc4d9a06-e690-4296-93b3-74fd979cf346",
   "metadata": {},
   "outputs": [],
   "source": []
  },
  {
   "cell_type": "code",
   "execution_count": null,
   "id": "14206bf4-3a05-4b9d-abae-95a485d95929",
   "metadata": {},
   "outputs": [],
   "source": []
  }
 ],
 "metadata": {
  "kernelspec": {
   "display_name": "Python 3",
   "language": "python",
   "name": "python3"
  },
  "language_info": {
   "codemirror_mode": {
    "name": "ipython",
    "version": 3
   },
   "file_extension": ".py",
   "mimetype": "text/x-python",
   "name": "python",
   "nbconvert_exporter": "python",
   "pygments_lexer": "ipython3",
   "version": "3.9.1"
  }
 },
 "nbformat": 4,
 "nbformat_minor": 5
}
