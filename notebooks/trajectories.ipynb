{
 "cells": [
  {
   "cell_type": "markdown",
   "metadata": {},
   "source": [
    "#  fMDCM from Trajectories\n",
    "\n",
    "## need: \n",
    "\n",
    "geometry or angles, bond lengths\n",
    "\n",
    "local charge positions\n"
   ]
  },
  {
   "cell_type": "code",
   "execution_count": 199,
   "metadata": {},
   "outputs": [],
   "source": [
    "import os\n",
    "import numpy as np\n",
    "import pandas as pd\n",
    "from scipy.spatial import distance\n",
    "import matplotlib.pyplot as plt\n",
    "import seaborn as sns\n",
    "\n",
    "BOHR_TO_ANGSTROM = 0.529177\n",
    "\n",
    "directory_path = \"/home/boittier/FDCM/traj1000\"\n",
    "\n",
    "subdirs = [x for x in os.listdir(directory_path) if x.startswith(\".\") == False]\n",
    "\n",
    "def get_geometry_from_cube(path):\n",
    "    f = open(path)\n",
    "    lines = f.readlines()\n",
    "    a,b,c = lines[6:9]\n",
    "    O = np.array([float(x) for x in a.split()[2:]])\n",
    "    H1 = np.array([float(x) for x in b.split()[2:]])\n",
    "    H2 = np.array([float(x) for x in c.split()[2:]])\n",
    "    r2 = distance.euclidean(O, H1)*BOHR_TO_ANGSTROM\n",
    "    r3 = distance.euclidean(O, H2)*BOHR_TO_ANGSTROM\n",
    "    ba = H1 - O\n",
    "    bc = H2 - O\n",
    "\n",
    "    cosine_angle = np.dot(ba, bc) / (np.linalg.norm(ba) * np.linalg.norm(bc))\n",
    "    a3 = np.degrees(np.arccos(cosine_angle))\n",
    "    return O, H1, H2, r2, r3, a3\n",
    "\n",
    "    \n",
    "def get_local_charges(path):\n",
    "    tmp_dict = {}\n",
    "    local_file = open(path).readlines()\n",
    "    n_lines = int(local_file[0])\n",
    "    charges = local_file[2:n_lines+2]\n",
    "    charges = np.array([ [float(x.split()[1]),\n",
    "              float(x.split()[2]),\n",
    "              float(x.split()[3]),\n",
    "              float(x.split()[4])] for x in charges])\n",
    "\n",
    "    for i, axis in enumerate([\"x\", \"y\", \"z\", \"q\"]):\n",
    "        for c in range(n_lines):\n",
    "            if f\"{axis}_c{c}\" not in tmp_dict.keys():\n",
    "                tmp_dict[f\"{axis}_c{c}\"] = charges[c,i]\n",
    "            \n",
    "            \n",
    "    return tmp_dict\n",
    "\n",
    "def get_error(path):\n",
    "    f = open(path)\n",
    "    lines = f.readlines()\n",
    "    total = lines[-5]\n",
    "    total = float(total.split()[1])\n",
    "    return total\n",
    "    "
   ]
  },
  {
   "cell_type": "code",
   "execution_count": 200,
   "metadata": {},
   "outputs": [],
   "source": [
    "data_dict = {\"O\": [], \"H1\": [], \"H2\": [], \"r2\": [], \"r3\": [], \"a3\": [], \"total\": []}\n",
    "local_dicts = []\n",
    "\n",
    "for subd in subdirs:\n",
    "    p1 = os.path.join(directory_path, subd, \"6charges.cube\")\n",
    "    O, H1, H2, r2, r3, a3 = get_geometry_from_cube(p1)\n",
    "    total = get_error(os.path.join(directory_path, subd, \"analysis.log\"))\n",
    "    data_dict[\"O\"].append(O)\n",
    "    data_dict[\"H1\"].append(H1)\n",
    "    data_dict[\"H2\"].append(H2)\n",
    "    data_dict[\"r2\"].append(r2)\n",
    "    data_dict[\"r3\"].append(r3)\n",
    "    data_dict[\"a3\"].append(a3)\n",
    "    data_dict[\"total\"].append(total)\n",
    "    \n",
    "    local_file = [x for x in os.listdir(os.path.join(directory_path, subd)) if x.startswith(\"local\")]\n",
    "    \n",
    "    local_dicts.append(get_local_charges(os.path.join(directory_path, subd, local_file[0])))\n",
    "\n",
    "    \n",
    "df = pd.DataFrame(data_dict)\n",
    "local_df = pd.DataFrame(local_dicts)\n",
    "local_df_xyz_keys = [x for x in list(local_df.keys()) if not x.startswith(\"q\")]\n"
   ]
  },
  {
   "cell_type": "code",
   "execution_count": 203,
   "metadata": {},
   "outputs": [
    {
     "data": {
      "image/png": "[encoded data removed]",
      "text/plain": [
       "<Figure size 432x288 with 1 Axes>"
      ]
     },
     "metadata": {
      "needs_background": "light"
     },
     "output_type": "display_data"
    },
    {
     "name": "stdout",
     "output_type": "stream",
     "text": [
      "102\n"
     ]
    },
    {
     "data": {
      "image/png": "[encoded data removed]",
      "text/plain": [
       "<Figure size 432x288 with 1 Axes>"
      ]
     },
     "metadata": {
      "needs_background": "light"
     },
     "output_type": "display_data"
    }
   ],
   "source": [
    "plt.scatter(df[\"a3\"], df[\"total\"])\n",
    "plt.show()\n",
    "plt.scatter(df[\"r3\"], df[\"total\"])\n",
    "print(len(df))"
   ]
  },
  {
   "cell_type": "code",
   "execution_count": 205,
   "metadata": {},
   "outputs": [],
   "source": [
    "complete_df = pd.concat([df, local_df], axis=1)\n",
    "complete_df[\"a3\"] = [float(x) for x in list(complete_df[\"a3\"])]\n",
    "complete_df[\"x_c0\"] = [float(x) for x in list(complete_df[\"x_c0\"])]\n",
    "\n",
    "# sns.scatterplot(x=\"a3\", y=\"x_c0\", data=complete_df)"
   ]
  },
  {
   "cell_type": "code",
   "execution_count": 206,
   "metadata": {},
   "outputs": [],
   "source": [
    "from sklearn.kernel_ridge import KernelRidge"
   ]
  },
  {
   "cell_type": "code",
   "execution_count": 207,
   "metadata": {},
   "outputs": [
    {
     "name": "stderr",
     "output_type": "stream",
     "text": [
      "/home/boittier/anaconda3/lib/python3.7/site-packages/sklearn/metrics/pairwise.py:54: DeprecationWarning: `np.float` is a deprecated alias for the builtin `float`. To silence this warning, use `float` by itself. Doing this will not modify any behavior and is safe. If you specifically wanted the numpy scalar type, use `np.float64` here.\n",
      "Deprecated in NumPy 1.20; for more details and guidance: https://numpy.org/devdocs/release/1.20.0-notes.html#deprecations\n",
      "  dtype = np.float\n"
     ]
    },
    {
     "data": {
      "text/plain": [
       "KernelRidge(alpha=1.0, coef0=1, degree=3, gamma=None, kernel='linear',\n",
       "      kernel_params=None)"
      ]
     },
     "execution_count": 207,
     "metadata": {},
     "output_type": "execute_result"
    }
   ],
   "source": [
    "n_samples, n_features = 1001, 6*3\n",
    "\n",
    "y = local_df[local_df_xyz_keys].values\n",
    "X = df[[\"r2\", \"r3\", \"a3\"]].values\n",
    "krr = KernelRidge(alpha=1.0)\n",
    "krr.fit(X,y)"
   ]
  },
  {
   "cell_type": "code",
   "execution_count": 208,
   "metadata": {},
   "outputs": [
    {
     "name": "stderr",
     "output_type": "stream",
     "text": [
      "/home/boittier/anaconda3/lib/python3.7/site-packages/sklearn/metrics/pairwise.py:54: DeprecationWarning: `np.float` is a deprecated alias for the builtin `float`. To silence this warning, use `float` by itself. Doing this will not modify any behavior and is safe. If you specifically wanted the numpy scalar type, use `np.float64` here.\n",
      "Deprecated in NumPy 1.20; for more details and guidance: https://numpy.org/devdocs/release/1.20.0-notes.html#deprecations\n",
      "  dtype = np.float\n"
     ]
    },
    {
     "data": {
      "text/plain": [
       "0.21084209888030828"
      ]
     },
     "execution_count": 208,
     "metadata": {},
     "output_type": "execute_result"
    }
   ],
   "source": [
    "krr.score(X, y)"
   ]
  },
  {
   "cell_type": "code",
   "execution_count": 209,
   "metadata": {},
   "outputs": [
    {
     "data": {
      "text/plain": [
       "[<matplotlib.lines.Line2D at 0x2b8ccea23390>]"
      ]
     },
     "execution_count": 209,
     "metadata": {},
     "output_type": "execute_result"
    },
    {
     "data": {
      "image/png": "[encoded data removed]",
      "text/plain": [
       "<Figure size 432x288 with 1 Axes>"
      ]
     },
     "metadata": {
      "needs_background": "light"
     },
     "output_type": "display_data"
    }
   ],
   "source": [
    "local_df[[\"x_c0\", \"y_c0\", \"z_c0\"]]\n",
    "key = \"x_c1\"\n",
    "plt.plot(range(len(local_df[key])), local_df[key], \"-*\")"
   ]
  },
  {
   "cell_type": "code",
   "execution_count": 210,
   "metadata": {},
   "outputs": [
    {
     "name": "stderr",
     "output_type": "stream",
     "text": [
      "/home/boittier/anaconda3/lib/python3.7/site-packages/sklearn/metrics/pairwise.py:54: DeprecationWarning: `np.float` is a deprecated alias for the builtin `float`. To silence this warning, use `float` by itself. Doing this will not modify any behavior and is safe. If you specifically wanted the numpy scalar type, use `np.float64` here.\n",
      "Deprecated in NumPy 1.20; for more details and guidance: https://numpy.org/devdocs/release/1.20.0-notes.html#deprecations\n",
      "  dtype = np.float\n"
     ]
    }
   ],
   "source": [
    "result = krr.predict(X)"
   ]
  },
  {
   "cell_type": "code",
   "execution_count": 211,
   "metadata": {},
   "outputs": [
    {
     "data": {
      "text/plain": [
       "array([[0.05425104, 0.0249643 , 0.02254322, ..., 0.10165545, 0.03470769,\n",
       "        0.05598843],\n",
       "       [0.01172688, 0.03179265, 0.04096973, ..., 0.05133387, 0.00014516,\n",
       "        0.01212278],\n",
       "       [0.0172834 , 0.0181858 , 0.02968713, ..., 0.02221736, 0.01155584,\n",
       "        0.01832604],\n",
       "       ...,\n",
       "       [0.0117763 , 0.0185071 , 0.03314623, ..., 0.0188895 , 0.01935267,\n",
       "        0.03295919],\n",
       "       [0.02386192, 0.02822676, 0.01443912, ..., 0.04755088, 0.00374854,\n",
       "        0.02151522],\n",
       "       [0.02306743, 0.02997989, 0.04193639, ..., 0.02318154, 0.01948721,\n",
       "        0.03230657]])"
      ]
     },
     "execution_count": 211,
     "metadata": {},
     "output_type": "execute_result"
    }
   ],
   "source": [
    "np.sqrt(np.array(y - result)**2)"
   ]
  },
  {
   "cell_type": "code",
   "execution_count": null,
   "metadata": {},
   "outputs": [],
   "source": [
    "result.shape"
   ]
  },
  {
   "cell_type": "code",
   "execution_count": null,
   "metadata": {},
   "outputs": [],
   "source": []
  },
  {
   "cell_type": "code",
   "execution_count": null,
   "metadata": {},
   "outputs": [],
   "source": []
  }
 ],
 "metadata": {
  "kernelspec": {
   "display_name": "Python 3",
   "language": "python",
   "name": "python3"
  },
  "language_info": {
   "codemirror_mode": {
    "name": "ipython",
    "version": 3
   },
   "file_extension": ".py",
   "mimetype": "text/x-python",
   "name": "python",
   "nbconvert_exporter": "python",
   "pygments_lexer": "ipython3",
   "version": "3.7.1"
  }
 },
 "nbformat": 4,
 "nbformat_minor": 2
}
